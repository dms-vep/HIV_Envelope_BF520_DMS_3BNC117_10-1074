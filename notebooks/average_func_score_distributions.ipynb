{
 "cells": [
  {
   "cell_type": "markdown",
   "id": "34cee08c-b6ee-450d-ae33-edd181df02b4",
   "metadata": {},
   "source": [
    "# Plot average functional scores per variant\n",
    "Plot the functional scores from the functional selections.\n",
    "\n",
    "First, import Python modules:"
   ]
  },
  {
   "cell_type": "code",
   "execution_count": 1,
   "id": "a2b4fb9f-ad03-4348-8c99-1dfda78b0dde",
   "metadata": {
    "tags": []
   },
   "outputs": [],
   "source": [
    "import altair as alt\n",
    "\n",
    "import dms_variants.codonvarianttable\n",
    "import dms_variants.utils\n",
    "\n",
    "import numpy\n",
    "\n",
    "import scipy.stats\n",
    "\n",
    "import pandas as pd\n",
    "\n",
    "import yaml"
   ]
  },
  {
   "cell_type": "code",
   "execution_count": 2,
   "id": "dfdbecf5-ead3-4d3e-a0ae-106cc124bce5",
   "metadata": {
    "tags": []
   },
   "outputs": [],
   "source": [
    "# allow more rows for Altair\n",
    "_ = alt.data_transformers.disable_max_rows()"
   ]
  },
  {
   "cell_type": "markdown",
   "id": "649e0dcc-7e23-4386-84d8-3cafba0ec69b",
   "metadata": {},
   "source": [
    "Read configuration:"
   ]
  },
  {
   "cell_type": "code",
   "execution_count": 3,
   "id": "6aa10c89-ae3b-43da-a707-a6bef3d454d6",
   "metadata": {
    "tags": []
   },
   "outputs": [
    {
     "ename": "FileNotFoundError",
     "evalue": "[Errno 2] No such file or directory: 'config.yaml'",
     "output_type": "error",
     "traceback": [
      "\u001b[0;31m---------------------------------------------------------------------------\u001b[0m",
      "\u001b[0;31mFileNotFoundError\u001b[0m                         Traceback (most recent call last)",
      "Cell \u001b[0;32mIn[3], line 4\u001b[0m\n\u001b[1;32m      1\u001b[0m \u001b[38;5;66;03m# If you are running notebook interactively rather than in pipeline that handles\u001b[39;00m\n\u001b[1;32m      2\u001b[0m \u001b[38;5;66;03m# working directories, you may have to first `os.chdir` to appropriate directory.\u001b[39;00m\n\u001b[0;32m----> 4\u001b[0m \u001b[38;5;28;01mwith\u001b[39;00m \u001b[38;5;28;43mopen\u001b[39;49m\u001b[43m(\u001b[49m\u001b[38;5;124;43m\"\u001b[39;49m\u001b[38;5;124;43mconfig.yaml\u001b[39;49m\u001b[38;5;124;43m\"\u001b[39;49m\u001b[43m)\u001b[49m \u001b[38;5;28;01mas\u001b[39;00m f:\n\u001b[1;32m      5\u001b[0m     config \u001b[38;5;241m=\u001b[39m yaml\u001b[38;5;241m.\u001b[39msafe_load(f)\n",
      "File \u001b[0;32m~/miniconda3/envs/dvp3local/lib/python3.11/site-packages/IPython/core/interactiveshell.py:286\u001b[0m, in \u001b[0;36m_modified_open\u001b[0;34m(file, *args, **kwargs)\u001b[0m\n\u001b[1;32m    279\u001b[0m \u001b[38;5;28;01mif\u001b[39;00m file \u001b[38;5;129;01min\u001b[39;00m {\u001b[38;5;241m0\u001b[39m, \u001b[38;5;241m1\u001b[39m, \u001b[38;5;241m2\u001b[39m}:\n\u001b[1;32m    280\u001b[0m     \u001b[38;5;28;01mraise\u001b[39;00m \u001b[38;5;167;01mValueError\u001b[39;00m(\n\u001b[1;32m    281\u001b[0m         \u001b[38;5;124mf\u001b[39m\u001b[38;5;124m\"\u001b[39m\u001b[38;5;124mIPython won\u001b[39m\u001b[38;5;124m'\u001b[39m\u001b[38;5;124mt let you open fd=\u001b[39m\u001b[38;5;132;01m{\u001b[39;00mfile\u001b[38;5;132;01m}\u001b[39;00m\u001b[38;5;124m by default \u001b[39m\u001b[38;5;124m\"\u001b[39m\n\u001b[1;32m    282\u001b[0m         \u001b[38;5;124m\"\u001b[39m\u001b[38;5;124mas it is likely to crash IPython. If you know what you are doing, \u001b[39m\u001b[38;5;124m\"\u001b[39m\n\u001b[1;32m    283\u001b[0m         \u001b[38;5;124m\"\u001b[39m\u001b[38;5;124myou can use builtins\u001b[39m\u001b[38;5;124m'\u001b[39m\u001b[38;5;124m open.\u001b[39m\u001b[38;5;124m\"\u001b[39m\n\u001b[1;32m    284\u001b[0m     )\n\u001b[0;32m--> 286\u001b[0m \u001b[38;5;28;01mreturn\u001b[39;00m \u001b[43mio_open\u001b[49m\u001b[43m(\u001b[49m\u001b[43mfile\u001b[49m\u001b[43m,\u001b[49m\u001b[43m \u001b[49m\u001b[38;5;241;43m*\u001b[39;49m\u001b[43margs\u001b[49m\u001b[43m,\u001b[49m\u001b[43m \u001b[49m\u001b[38;5;241;43m*\u001b[39;49m\u001b[38;5;241;43m*\u001b[39;49m\u001b[43mkwargs\u001b[49m\u001b[43m)\u001b[49m\n",
      "\u001b[0;31mFileNotFoundError\u001b[0m: [Errno 2] No such file or directory: 'config.yaml'"
     ]
    }
   ],
   "source": [
    "# If you are running notebook interactively rather than in pipeline that handles\n",
    "# working directories, you may have to first `os.chdir` to appropriate directory.\n",
    "\n",
    "with open(\"config.yaml\") as f:\n",
    "    config = yaml.safe_load(f)"
   ]
  },
  {
   "cell_type": "markdown",
   "id": "144fd6c2-0e57-4dae-91c3-87da91c62a0e",
   "metadata": {},
   "source": [
    "Read in all the data:"
   ]
  },
  {
   "cell_type": "code",
   "execution_count": null,
   "id": "17189393-3282-4a26-abde-a47c4bdc755c",
   "metadata": {},
   "outputs": [],
   "source": [
    "with open(config[\"func_effects_config\"]) as f:\n",
    "    selections = list(yaml.safe_load(f)[\"avg_func_effects\"][\"TZM-bl_entry\"][\"selections\"])\n",
    "\n",
    "count_summaries = pd.concat(\n",
    "    [pd.read_csv(f\"results/func_scores/{s}_count_summary.csv\") for s in selections],\n",
    "    ignore_index=True,\n",
    ")\n",
    "\n",
    "func_scores = pd.concat(\n",
    "    [\n",
    "        pd.read_csv(f\"results/func_scores/{s}_func_scores.csv\").assign(selection=s)\n",
    "        for s in selections\n",
    "    ],\n",
    "    ignore_index=True,\n",
    ")"
   ]
  },
  {
   "cell_type": "markdown",
   "id": "5a5948ab-a4cc-49cd-a5ae-6a3d654c186f",
   "metadata": {
    "execution": {
     "iopub.execute_input": "2023-07-05T20:58:10.512063Z",
     "iopub.status.busy": "2023-07-05T20:58:10.511826Z",
     "iopub.status.idle": "2023-07-05T20:58:10.516327Z",
     "shell.execute_reply": "2023-07-05T20:58:10.515714Z",
     "shell.execute_reply.started": "2023-07-05T20:58:10.512045Z"
    }
   },
   "source": [
    "## Distributions of functional scores\n",
    "Plot the functional scores distribution among retained variants (adequate pre-selection counts).\n",
    "\n",
    "These are plotted as ridgeplots."
   ]
  },
  {
   "cell_type": "code",
   "execution_count": null,
   "id": "07d3c018-71c7-48fc-8f96-e3493c03f21d",
   "metadata": {},
   "outputs": [],
   "source": [
    "# assign a library label\n",
    "selections = func_scores['selection'].tolist()\n",
    "libraries = [selection[0] for selection in selections]\n",
    "func_scores['library'] = libraries\n",
    "\n",
    "# classify variants\n",
    "func_scores = func_scores.pipe(\n",
    "    dms_variants.codonvarianttable.CodonVariantTable.classifyVariants\n",
    ")\n",
    "\n",
    "def ridgeplot(df, library):\n",
    "    # print out func_scores and figure out if it has library\n",
    "\n",
    "    df = df.query('library==@library').copy()\n",
    "    \n",
    "    variant_classes = list(\n",
    "        reversed(\n",
    "            [\n",
    "                c\n",
    "                for c in [\n",
    "                    \"wildtype\",\n",
    "                    \"synonymous\",\n",
    "                    \"1 nonsynonymous\",\n",
    "                    \">1 nonsynonymous\",\n",
    "                    \"deletion\",\n",
    "                    \"stop\",\n",
    "                ]\n",
    "                if c in set(df[\"variant_class\"])\n",
    "            ]\n",
    "        )\n",
    "    )\n",
    "    \n",
    "    assert set(df[\"variant_class\"]) == set(variant_classes)\n",
    "    \n",
    "    \n",
    "    \n",
    "    # get smoothed distribution of functional scores\n",
    "    bins = numpy.linspace(\n",
    "        df[\"func_score\"].min(),\n",
    "        df[\"func_score\"].max(),\n",
    "        num=50,\n",
    "    )\n",
    "    smoothed_dist = pd.concat(\n",
    "        [\n",
    "            pd.DataFrame(\n",
    "                {\n",
    "                    \"variant_class\": var,\n",
    "                    \"func_score\": bins,\n",
    "                    \"count\": scipy.stats.gaussian_kde(df.groupby('barcode').agg({'func_score': 'mean'})[\"func_score\"])(bins),\n",
    "                    \"mean_func_score\": df.groupby('barcode').agg({'func_score': 'mean'})[\"func_score\"].mean(),\n",
    "                    \"number of variants\": len(df.groupby('barcode').agg({'func_score': 'mean'})[\"func_score\"]),\n",
    "                }\n",
    "            )\n",
    "            for (lib, var), df in df.groupby([\"library\", \"variant_class\"])\n",
    "        ]\n",
    "    )\n",
    "    \n",
    "    # assign y / y2 for plotting\n",
    "    facet_overlap = 0.7  # maximal facet overlap\n",
    "    max_count = (smoothed_dist[\"count\"]).max()\n",
    "    smoothed_dist = smoothed_dist.assign(\n",
    "        y=lambda x: x[\"variant_class\"].map(lambda v: variant_classes.index(v)),\n",
    "        y2=lambda x: x[\"y\"] + x[\"count\"] / max_count / facet_overlap,\n",
    "    )\n",
    "    \n",
    "    # ridgeline plot, based on this but using y / y2 rather than row:\n",
    "    # https://altair-viz.github.io/gallery/ridgeline_plot.html\n",
    "    ridgeline_chart = (\n",
    "        alt.Chart(smoothed_dist)\n",
    "        .encode(\n",
    "            x=alt.X(\n",
    "                \"func_score\", title=\"functional score\", scale=alt.Scale(nice=False)\n",
    "            ),\n",
    "            y=alt.Y(\n",
    "                \"y\",\n",
    "                scale=alt.Scale(nice=False),\n",
    "                title=None,\n",
    "                axis=alt.Axis(\n",
    "                    ticks=False,\n",
    "                    domain=False,\n",
    "                    # set manual labels https://stackoverflow.com/a/64106056\n",
    "                    values=[v + 0.5 for v in range(len(variant_classes))],\n",
    "                    labelExpr=f\"{str(variant_classes)}[round(datum.value - 0.5)]\",\n",
    "                ),\n",
    "            ),\n",
    "            y2=alt.Y2(\"y2\"),\n",
    "            fill=alt.Fill(\n",
    "                \"mean_func_score:Q\",\n",
    "                title=\"mean functional score\",\n",
    "                legend=alt.Legend(direction=\"horizontal\"),\n",
    "                scale=alt.Scale(scheme=\"yellowgreenblue\"),\n",
    "            ),\n",
    "            tooltip=[\n",
    "                \"variant_class\",\n",
    "                alt.Tooltip(\n",
    "                    \"mean_func_score\", format=\".2f\", title=\"mean functional score\"\n",
    "                ),\n",
    "                \"number of variants\",\n",
    "            ],\n",
    "        )\n",
    "        .mark_area(\n",
    "            interpolate=\"monotone\",\n",
    "            smooth=True,\n",
    "            fillOpacity=0.8,\n",
    "            stroke=\"lightgray\",\n",
    "            strokeWidth=0.5,\n",
    "        )\n",
    "        .configure_view(stroke=None)\n",
    "        .configure_axis(grid=False)\n",
    "        .properties(width=180, height=22 * len(variant_classes))\n",
    "    )\n",
    "\n",
    "    \n",
    "    ridgeline_chart = ridgeline_chart.properties(\n",
    "        autosize=alt.AutoSizeParams(resize=True),\n",
    "    )\n",
    "    return(ridgeline_chart)"
   ]
  },
  {
   "cell_type": "code",
   "execution_count": null,
   "id": "5712b454-77d8-4a7b-8f32-4f6e35a7b728",
   "metadata": {},
   "outputs": [],
   "source": [
    "ridgeplot(func_scores, 'A')"
   ]
  },
  {
   "cell_type": "code",
   "execution_count": null,
   "id": "250f6236-044d-4fd1-bec3-e1c6fa92651e",
   "metadata": {},
   "outputs": [],
   "source": [
    "ridgeplot(func_scores, 'B')"
   ]
  },
  {
   "cell_type": "code",
   "execution_count": null,
   "id": "ea6f8f41-b265-4515-9564-2c5cf76d73b3",
   "metadata": {},
   "outputs": [],
   "source": []
  }
 ],
 "metadata": {
  "kernelspec": {
   "display_name": "Python 3 (ipykernel)",
   "language": "python",
   "name": "python3"
  },
  "language_info": {
   "codemirror_mode": {
    "name": "ipython",
    "version": 3
   },
   "file_extension": ".py",
   "mimetype": "text/x-python",
   "name": "python",
   "nbconvert_exporter": "python",
   "pygments_lexer": "ipython3",
   "version": "3.11.6"
  }
 },
 "nbformat": 4,
 "nbformat_minor": 5
}
